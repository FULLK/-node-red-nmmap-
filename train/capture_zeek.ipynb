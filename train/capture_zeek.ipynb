{
 "cells": [
  {
   "cell_type": "code",
   "execution_count": 29,
   "metadata": {},
   "outputs": [],
   "source": [
    "import pandas as pd\n",
    "import numpy as np"
   ]
  },
  {
   "cell_type": "code",
   "execution_count": 30,
   "metadata": {},
   "outputs": [
    {
     "name": "stdout",
     "output_type": "stream",
     "text": [
      "<class 'pandas.core.frame.DataFrame'>\n",
      "RangeIndex: 13211 entries, 0 to 13210\n",
      "Data columns (total 22 columns):\n",
      " #   Column  Non-Null Count  Dtype  \n",
      "---  ------  --------------  -----  \n",
      " 0   0       0 non-null      float64\n",
      " 1   1       13211 non-null  object \n",
      " 2   2       13211 non-null  object \n",
      " 3   3       13211 non-null  object \n",
      " 4   4       13211 non-null  int64  \n",
      " 5   5       13211 non-null  object \n",
      " 6   6       13211 non-null  int64  \n",
      " 7   7       13211 non-null  object \n",
      " 8   8       13211 non-null  object \n",
      " 9   9       13211 non-null  object \n",
      " 10  10      13211 non-null  object \n",
      " 11  11      13211 non-null  object \n",
      " 12  12      13211 non-null  object \n",
      " 13  13      13211 non-null  object \n",
      " 14  14      13211 non-null  object \n",
      " 15  15      13211 non-null  int64  \n",
      " 16  16      13211 non-null  object \n",
      " 17  17      13211 non-null  int64  \n",
      " 18  18      13211 non-null  int64  \n",
      " 19  19      13211 non-null  int64  \n",
      " 20  20      13211 non-null  int64  \n",
      " 21  21      13211 non-null  object \n",
      "dtypes: float64(1), int64(7), object(14)\n",
      "memory usage: 2.2+ MB\n",
      "CSV 文件已保存为 final_output.csv\n"
     ]
    }
   ],
   "source": [
    "\n",
    "\n",
    "\n",
    "# 读取 Zeek 输出的 CSV 文件，使用逗号作为分隔符\n",
    "df = pd.read_csv('temp_output.csv', header=None)\n",
    "\n",
    "df.info()\n",
    "len(df)\n",
    "\n",
    "# 设置列名\n",
    "df.columns = [' ','ts', 'uid', 'id.orig_h', 'id.orig_p', 'id.resp_h', 'id.resp_p', 'proto', 'service', 'duration', \n",
    "              'orig_bytes', 'resp_bytes', 'conn_state', 'local_orig', 'local_resp', 'missed_bytes', 'history', \n",
    "              'orig_pkts', 'orig_ip_bytes', 'resp_pkts', 'resp_ip_bytes', 'tunnel_parents']\n",
    "\n",
    "# 添加行号列，行号从 1 开始\n",
    "\n",
    "df.iloc[:, 0] = range(0, len(df))  \n",
    "\n",
    "# 保存为新的 CSV 文件\n",
    "df.to_csv('final_output.csv', index=False)\n",
    "\n",
    "print(\"CSV 文件已保存为 final_output.csv\")\n"
   ]
  },
  {
   "cell_type": "code",
   "execution_count": 31,
   "metadata": {},
   "outputs": [
    {
     "name": "stdout",
     "output_type": "stream",
     "text": [
      "CSV 文件已保存为 final_output_with_label.csv\n"
     ]
    }
   ],
   "source": [
    "# 打标签\n",
    "# 读取之前保存的 CSV 文件 'final_output.csv'\n",
    "df = pd.read_csv('final_output.csv')\n",
    "\n",
    "# 添加 'label' 列，根据 'id.resp_h' 和 'id.orig_h' 的值是否相同来决定\n",
    "\n",
    "df['label'] = [\n",
    "    'Benign' if row['service'] == 'http' or row['id.resp_p'] == 5000 else\n",
    "    ('Malicious' if row['id.resp_h'] == row['id.orig_h'] else 'Benign')\n",
    "    for _, row in df.iterrows()\n",
    "]\n",
    "\n",
    "\n",
    "# 保存为新的 CSV 文件（带有 'label' 列）\n",
    "df.to_csv('final_output_with_label.csv', index=False)\n",
    "\n",
    "print(\"CSV 文件已保存为 final_output_with_label.csv\")"
   ]
  },
  {
   "cell_type": "code",
   "execution_count": 32,
   "metadata": {},
   "outputs": [
    {
     "name": "stdout",
     "output_type": "stream",
     "text": [
      "CSV 文件已保存为 final_output_with_correct_dtype_and_no_dash.csv\n"
     ]
    },
    {
     "name": "stderr",
     "output_type": "stream",
     "text": [
      "/tmp/ipykernel_41322/4018512477.py:7: FutureWarning: Downcasting behavior in `replace` is deprecated and will be removed in a future version. To retain the old behavior, explicitly call `result.infer_objects(copy=False)`. To opt-in to the future behavior, set `pd.set_option('future.no_silent_downcasting', True)`\n",
      "  df.replace('-', np.nan, inplace=True)\n"
     ]
    }
   ],
   "source": [
    "#设置列的类型  方便后面处理\n",
    "\n",
    "# 读取 Zeek 输出的 CSV 文件\n",
    "df = pd.read_csv('final_output_with_label.csv')\n",
    "\n",
    "# 将列中的 '-' 替换为 NaN（空值）\n",
    "df.replace('-', np.nan, inplace=True)\n",
    "\n",
    "# 修改每列的数据类型（dtype）以匹配目标\n",
    "df['id.orig_h'] = df['id.orig_h'].astype('object')\n",
    "df['id.orig_p'] = df['id.orig_p'].astype('int64')\n",
    "df['id.resp_h'] = df['id.resp_h'].astype('object')\n",
    "df['id.resp_p'] = df['id.resp_p'].astype('int64')\n",
    "df['proto'] = df['proto'].astype('object')\n",
    "df['service'] = df['service'].astype('object')\n",
    "df['duration'] = df['duration'].astype('float64')\n",
    "df['orig_bytes'] = df['orig_bytes'].astype('float64')\n",
    "df['resp_bytes'] = df['resp_bytes'].astype('float64')\n",
    "df['conn_state'] = df['conn_state'].astype('object')\n",
    "df['missed_bytes'] = df['missed_bytes'].astype('int64')\n",
    "df['history'] = df['history'].astype('object')\n",
    "df['orig_pkts'] = df['orig_pkts'].astype('int64')\n",
    "df['orig_ip_bytes'] = df['orig_ip_bytes'].astype('int64')\n",
    "df['resp_pkts'] = df['resp_pkts'].astype('int64')\n",
    "df['resp_ip_bytes'] = df['resp_ip_bytes'].astype('int64')\n",
    "df['label'] = df['label'].astype('object')\n",
    "\n",
    "# 保存为新的 CSV 文件（带有正确的数据类型）\n",
    "df.to_csv('final_output_with_correct_dtype_and_no_dash.csv', index=False)\n",
    "\n",
    "print(\"CSV 文件已保存为 final_output_with_correct_dtype_and_no_dash.csv\")"
   ]
  }
 ],
 "metadata": {
  "kernelspec": {
   "display_name": "Python 3",
   "language": "python",
   "name": "python3"
  },
  "language_info": {
   "codemirror_mode": {
    "name": "ipython",
    "version": 3
   },
   "file_extension": ".py",
   "mimetype": "text/x-python",
   "name": "python",
   "nbconvert_exporter": "python",
   "pygments_lexer": "ipython3",
   "version": "3.10.12"
  }
 },
 "nbformat": 4,
 "nbformat_minor": 2
}
